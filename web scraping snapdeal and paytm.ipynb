{
 "cells": [
  {
   "cell_type": "code",
   "execution_count": 1,
   "metadata": {},
   "outputs": [],
   "source": [
    "import selenium\n",
    "import pandas as pd\n",
    "from selenium import webdriver"
   ]
  },
  {
   "cell_type": "code",
   "execution_count": 2,
   "metadata": {},
   "outputs": [],
   "source": [
    "import time\n",
    "from selenium.common.exceptions import NoSuchElementException"
   ]
  },
  {
   "cell_type": "code",
   "execution_count": 3,
   "metadata": {},
   "outputs": [],
   "source": [
    "driver = webdriver.Chrome(r\"chromedriver.exe\")"
   ]
  },
  {
   "cell_type": "code",
   "execution_count": 4,
   "metadata": {},
   "outputs": [],
   "source": [
    "driver.get(\"https://www.snapdeal.com/search?keyword=headphones&santizedKeyword=headphones&catId=0&categoryId=288&suggested=false&vertical=p&noOfResults=20&searchState=k3%3Dtrue%7Ck5%3D0%7Ck6%3D0%7Ck7%3DR4EFBQAAQAAkAAAAAAAAAIAAIgBAAAZAAAAAAAAAAAAAAAAAAAAAAAAAQA%3D%3D%7Ck8%3D0&clickSrc=searchOnSubCat&lastKeyword=&prodCatId=&changeBackToAll=false&foundInAll=false&categoryIdSearched=&cityPageUrl=&categoryUrl=&url=&utmContent=&dealDetail=&sort=rlvncy#bcrumbSearch:headphones\")"
   ]
  },
  {
   "cell_type": "code",
   "execution_count": 12,
   "metadata": {},
   "outputs": [],
   "source": [
    "urls = []\n",
    "for i in driver.find_elements_by_xpath('//div[@class=\"product-tuple-description \"]/div[1]/a'):     \n",
    "    urls.append(i.get_attribute(\"href\")) "
   ]
  },
  {
   "cell_type": "code",
   "execution_count": 13,
   "metadata": {},
   "outputs": [
    {
     "data": {
      "text/plain": [
       "237"
      ]
     },
     "execution_count": 13,
     "metadata": {},
     "output_type": "execute_result"
    }
   ],
   "source": [
    "len(urls)"
   ]
  },
  {
   "cell_type": "code",
   "execution_count": 10,
   "metadata": {},
   "outputs": [],
   "source": [
    "reviews = []\n",
    "prices = []\n",
    "ratings = []\n",
    "brands = []"
   ]
  },
  {
   "cell_type": "code",
   "execution_count": 32,
   "metadata": {},
   "outputs": [],
   "source": [
    "u = urls[:4]"
   ]
  },
  {
   "cell_type": "code",
   "execution_count": 36,
   "metadata": {},
   "outputs": [],
   "source": [
    "for i in urls:\n",
    "    driver.get(i)\n",
    "    time.sleep(2)\n",
    "    try:\n",
    "        #p=driver.find_element_by_xpath('//div[@class=\"_2c2kV-\"]')\n",
    "        p=driver.find_element_by_xpath('//div[@class=\"commentreview\"]/div[1]/div[2]/div[1]/p')\n",
    "        reviews.append(p.text.replace('/n',''))\n",
    "    except NoSuchElementException:\n",
    "        reviews.append('-')\n",
    "    try:\n",
    "        p=driver.find_element_by_xpath('//span[@class=\"pdp-final-price\"]/span')\n",
    "        prices.append(p.text.replace('/n',''))\n",
    "    except NoSuchElementException:\n",
    "        prices.append('-')\n",
    "    try:\n",
    "        p=driver.find_element_by_xpath('//div[@class=\"spec-body specifications\"]/div/table/tbody/tr/td/table/tbody/tr[6]/td[2]')\n",
    "        brands.append(p.text.replace('/n',''))\n",
    "    except NoSuchElementException:\n",
    "        brands.append('-')\n",
    "    try:\n",
    "        p=driver.find_element_by_xpath('//div[@class=\"rating-text\"]/span')\n",
    "        ratings.append(p.text.replace('/n',''))\n",
    "    except NoSuchElementException:\n",
    "        ratings.append('-')"
   ]
  },
  {
   "cell_type": "code",
   "execution_count": 24,
   "metadata": {},
   "outputs": [],
   "source": [
    "dts = pd.DataFrame({})\n",
    "dts['reviews'] = reviews\n",
    "dts['Price'] = prices\n",
    "dts['Brand'] = brands\n",
    "dts['Ratings'] = ratings"
   ]
  },
  {
   "cell_type": "code",
   "execution_count": 34,
   "metadata": {},
   "outputs": [
    {
     "data": {
      "text/plain": [
       "['Very good product',\n",
       " 'The wireless earphone is awesome, i have changed a lot of earphones but atlast i have settled for this one. The bass booster button is cheery on the cake. Awesome noise cancellation and awesome mic quality.the best earphone',\n",
       " 'fantastic product , indias best brand',\n",
       " 'So far as I have been purchasing from Snap Deal I have always been satisfied']"
      ]
     },
     "execution_count": 34,
     "metadata": {},
     "output_type": "execute_result"
    }
   ],
   "source": [
    "reviews"
   ]
  },
  {
   "cell_type": "code",
   "execution_count": 25,
   "metadata": {},
   "outputs": [],
   "source": [
    "dts.to_csv(r'lap_paytm.csv',index=False,header=True)"
   ]
  },
  {
   "cell_type": "code",
   "execution_count": 5,
   "metadata": {},
   "outputs": [],
   "source": [
    "dt = pd.read_csv(\"hd_snapdeal.csv\")"
   ]
  },
  {
   "cell_type": "code",
   "execution_count": 5,
   "metadata": {},
   "outputs": [],
   "source": [
    "urls = []\n",
    "for i in driver.find_elements_by_xpath('//div[@class=\"product-tuple-description \"]/div[1]/a'):     \n",
    "    urls.append(i.get_attribute(\"href\")) "
   ]
  },
  {
   "cell_type": "code",
   "execution_count": 14,
   "metadata": {},
   "outputs": [],
   "source": [
    "url=urls[3:]"
   ]
  },
  {
   "cell_type": "code",
   "execution_count": 15,
   "metadata": {},
   "outputs": [],
   "source": [
    "for i in url:\n",
    "    driver.get(i)\n",
    "    time.sleep(2)\n",
    "    try:\n",
    "        #p=driver.find_element_by_xpath('//div[@class=\"_2c2kV-\"]')\n",
    "        p=driver.find_element_by_xpath('//div[@class=\"commentreview\"]/div[1]/div[2]/div[1]/p')\n",
    "        review.append(p.text.replace('/n',''))\n",
    "    except NoSuchElementException:\n",
    "        review.append('-')\n",
    "    try:\n",
    "        p=driver.find_element_by_xpath('//span[@class=\"pdp-final-price\"]/span')\n",
    "        price.append(p.text.replace('/n',''))\n",
    "    except NoSuchElementException:\n",
    "        price.append('-')\n",
    "    try:\n",
    "        p=driver.find_element_by_xpath('//div[@class=\"spec-body specifications\"]/div/table/tbody/tr/td/table/tbody/tr[6]/td[2]')\n",
    "        brand.append(p.text.replace('/n',''))\n",
    "    except NoSuchElementException:\n",
    "        brand.append('-')\n",
    "    try:\n",
    "        p=driver.find_element_by_xpath('//div[@class=\"rating-text\"]/span')\n",
    "        rating.append(p.text.replace('/n',''))\n",
    "    except NoSuchElementException:\n",
    "        rating.append('-')"
   ]
  },
  {
   "cell_type": "code",
   "execution_count": 16,
   "metadata": {},
   "outputs": [],
   "source": [
    "dts = pd.DataFrame({})\n",
    "dts['reviews'] = reviews\n",
    "dts['Price'] = prices\n",
    "dts['Brand'] = brands\n",
    "dts['Ratings'] = ratings"
   ]
  },
  {
   "cell_type": "code",
   "execution_count": 10,
   "metadata": {},
   "outputs": [],
   "source": [
    "dts.to_csv(r'watch_snapdeal.csv',index=False,header=True)"
   ]
  },
  {
   "cell_type": "code",
   "execution_count": 5,
   "metadata": {},
   "outputs": [],
   "source": [
    "urls = []\n",
    "for i in driver.find_elements_by_xpath('//div[@class=\"product-tuple-description \"]/div[1]/a'):     \n",
    "    urls.append(i.get_attribute(\"href\"))"
   ]
  },
  {
   "cell_type": "code",
   "execution_count": 8,
   "metadata": {},
   "outputs": [],
   "source": [
    "for i in urls:\n",
    "    driver.get(i)\n",
    "    time.sleep(2)\n",
    "    try:\n",
    "        #p=driver.find_element_by_xpath('//div[@class=\"_2c2kV-\"]')\n",
    "        p=driver.find_element_by_xpath('//div[@class=\"commentreview\"]/div[1]/div[2]/div[1]/p')\n",
    "        review.append(p.text.replace('/n',''))\n",
    "    except NoSuchElementException:\n",
    "        review.append('-')\n",
    "    try:\n",
    "        p=driver.find_element_by_xpath('//span[@class=\"pdp-final-price\"]/span')\n",
    "        price.append(p.text.replace('/n',''))\n",
    "    except NoSuchElementException:\n",
    "        price.append('-')\n",
    "    try:\n",
    "        p=driver.find_element_by_xpath('//div[@class=\"spec-body specifications\"]/div/table/tbody/tr/td/table/tbody/tr[6]/td[2]')\n",
    "        brand.append(p.text.replace('/n',''))\n",
    "    except NoSuchElementException:\n",
    "        brand.append('-')\n",
    "    try:\n",
    "        p=driver.find_element_by_xpath('//div[@class=\"rating-text\"]/span')\n",
    "        rating.append(p.text.replace('/n',''))\n",
    "    except NoSuchElementException:\n",
    "        rating.append('-')"
   ]
  },
  {
   "cell_type": "markdown",
   "metadata": {},
   "source": [
    "# paytm"
   ]
  },
  {
   "cell_type": "code",
   "execution_count": 4,
   "metadata": {},
   "outputs": [],
   "source": [
    "driver.get(\"https://paytmmall.com/\")"
   ]
  },
  {
   "cell_type": "code",
   "execution_count": 11,
   "metadata": {},
   "outputs": [],
   "source": [
    "srchitem = driver.find_element_by_id(\"searchInput\")\n",
    "srchitem.send_keys(\"laptop\")"
   ]
  },
  {
   "cell_type": "code",
   "execution_count": 12,
   "metadata": {},
   "outputs": [],
   "source": [
    "urls_lap= []\n",
    "start=0\n",
    "end=5\n",
    "for page in range(start,end):\n",
    "    url=driver.find_elements_by_xpath('//div[@class=\"_3WhJ\"]/a')     \n",
    "    for i in url:\n",
    "        urls_lap.append(i.get_attribute(\"href\"))                        \n",
    "    try:\n",
    "        nxt_button=driver.find_element_by_xpath(\"//li[@class='_2TzX']/a\")     \n",
    "        nxt_button.click()\n",
    "        time.sleep(2)\n",
    "    except:\n",
    "        break"
   ]
  },
  {
   "cell_type": "code",
   "execution_count": 14,
   "metadata": {},
   "outputs": [],
   "source": [
    "urls = urls_lap[:3]"
   ]
  },
  {
   "cell_type": "code",
   "execution_count": 22,
   "metadata": {},
   "outputs": [],
   "source": [
    "for i in urls_lap:\n",
    "    driver.get(i)\n",
    "    time.sleep(2)\n",
    "    try:\n",
    "        #p=driver.find_element_by_xpath('//div[@class=\"_2c2kV-\"]')\n",
    "        p=driver.find_element_by_xpath('//div[@class=\"Ff8R\"]/div[1]/pre')\n",
    "        reviews.append(p.text.replace('/n',''))\n",
    "    except NoSuchElementException:\n",
    "        reviews.append('-')\n",
    "    try:\n",
    "        p=driver.find_element_by_xpath('//div[@class=\"_2LVL\"]/span')\n",
    "        prices.append(p.text.replace('/n',''))\n",
    "    except NoSuchElementException:\n",
    "        prices.append('-')\n",
    "    try:\n",
    "        p=driver.find_element_by_xpath('//div[@class=\"_2LOI\"]/a')\n",
    "        brands.append(p.text.replace('/n',''))\n",
    "    except NoSuchElementException:\n",
    "        brands.append('-')\n",
    "    try:\n",
    "        p=driver.find_element_by_xpath('//div[@class=\"Ff8R\"]/div[1]/div[1]')\n",
    "        ratings.append(p.text.replace('/n',''))\n",
    "    except NoSuchElementException:\n",
    "        ratings.append('-')"
   ]
  },
  {
   "cell_type": "code",
   "execution_count": 5,
   "metadata": {},
   "outputs": [],
   "source": [
    "srchitem = driver.find_element_by_id(\"searchInput\")\n",
    "srchitem.send_keys(\"mobile phones\")"
   ]
  },
  {
   "cell_type": "code",
   "execution_count": 9,
   "metadata": {},
   "outputs": [],
   "source": [
    "u = urls_ph[:4]"
   ]
  },
  {
   "cell_type": "code",
   "execution_count": 7,
   "metadata": {},
   "outputs": [],
   "source": [
    "urls_ph= []\n",
    "start=0\n",
    "end=21\n",
    "for page in range(start,end):\n",
    "    url=driver.find_elements_by_xpath('//div[@class=\"_3WhJ\"]/a')     \n",
    "    for i in url:\n",
    "        urls_ph.append(i.get_attribute(\"href\"))                        \n",
    "    try:\n",
    "        nxt_button=driver.find_element_by_xpath(\"//li[@class='_2TzX']/a\")     \n",
    "        nxt_button.click()\n",
    "        time.sleep(2)\n",
    "    except:\n",
    "        break"
   ]
  },
  {
   "cell_type": "code",
   "execution_count": 8,
   "metadata": {},
   "outputs": [
    {
     "data": {
      "text/plain": [
       "672"
      ]
     },
     "execution_count": 8,
     "metadata": {},
     "output_type": "execute_result"
    }
   ],
   "source": [
    "len(urls_ph)"
   ]
  },
  {
   "cell_type": "code",
   "execution_count": 13,
   "metadata": {},
   "outputs": [],
   "source": [
    "for i in urls_ph:\n",
    "    driver.get(i)\n",
    "    time.sleep(2)\n",
    "    try:\n",
    "        #p=driver.find_element_by_xpath('//div[@class=\"_2c2kV-\"]')\n",
    "        p=driver.find_element_by_xpath('//div[@class=\"Ff8R\"]/div[1]/pre')\n",
    "        reviews.append(p.text.replace('/n',''))\n",
    "    except NoSuchElementException:\n",
    "        reviews.append('-')\n",
    "    try:\n",
    "        p=driver.find_element_by_xpath('//div[@class=\"_2LVL\"]/span')\n",
    "        prices.append(p.text.replace('/n',''))\n",
    "    except NoSuchElementException:\n",
    "        prices.append('-')\n",
    "    try:\n",
    "        p=driver.find_element_by_xpath('//div[@class=\"_2LOI\"]/a')\n",
    "        brands.append(p.text.replace('/n',''))\n",
    "    except NoSuchElementException:\n",
    "        brands.append('-')\n",
    "    try:\n",
    "        p=driver.find_element_by_xpath('//div[@class=\"Ff8R\"]/div[1]/div[1]')\n",
    "        ratings.append(p.text.replace('/n',''))\n",
    "    except NoSuchElementException:\n",
    "        ratings.append('-')"
   ]
  },
  {
   "cell_type": "code",
   "execution_count": 17,
   "metadata": {},
   "outputs": [],
   "source": [
    "dts.to_csv(r'phn_paytm.csv',index=False,header=True)"
   ]
  },
  {
   "cell_type": "code",
   "execution_count": 18,
   "metadata": {},
   "outputs": [
    {
     "data": {
      "text/html": [
       "<div>\n",
       "<style scoped>\n",
       "    .dataframe tbody tr th:only-of-type {\n",
       "        vertical-align: middle;\n",
       "    }\n",
       "\n",
       "    .dataframe tbody tr th {\n",
       "        vertical-align: top;\n",
       "    }\n",
       "\n",
       "    .dataframe thead th {\n",
       "        text-align: right;\n",
       "    }\n",
       "</style>\n",
       "<table border=\"1\" class=\"dataframe\">\n",
       "  <thead>\n",
       "    <tr style=\"text-align: right;\">\n",
       "      <th></th>\n",
       "      <th>reviews</th>\n",
       "      <th>Price</th>\n",
       "      <th>Brand</th>\n",
       "      <th>Ratings</th>\n",
       "    </tr>\n",
       "  </thead>\n",
       "  <tbody>\n",
       "    <tr>\n",
       "      <th>0</th>\n",
       "      <td>Nice mobile phone</td>\n",
       "      <td>12,990</td>\n",
       "      <td>Smart Phones</td>\n",
       "      <td>5</td>\n",
       "    </tr>\n",
       "    <tr>\n",
       "      <th>1</th>\n",
       "      <td>Very nice mobile</td>\n",
       "      <td>11,990</td>\n",
       "      <td>Smart Phones</td>\n",
       "      <td>5</td>\n",
       "    </tr>\n",
       "    <tr>\n",
       "      <th>2</th>\n",
       "      <td>-</td>\n",
       "      <td>20,990</td>\n",
       "      <td>Smart Phones</td>\n",
       "      <td>-</td>\n",
       "    </tr>\n",
       "    <tr>\n",
       "      <th>3</th>\n",
       "      <td>Best mobile</td>\n",
       "      <td>15,115</td>\n",
       "      <td>Smart Phones</td>\n",
       "      <td>4</td>\n",
       "    </tr>\n",
       "    <tr>\n",
       "      <th>4</th>\n",
       "      <td>Nice mobile phone</td>\n",
       "      <td>12,990</td>\n",
       "      <td>Smart Phones</td>\n",
       "      <td>5</td>\n",
       "    </tr>\n",
       "    <tr>\n",
       "      <th>...</th>\n",
       "      <td>...</td>\n",
       "      <td>...</td>\n",
       "      <td>...</td>\n",
       "      <td>...</td>\n",
       "    </tr>\n",
       "    <tr>\n",
       "      <th>671</th>\n",
       "      <td>-</td>\n",
       "      <td>1,049</td>\n",
       "      <td>Feature Phones</td>\n",
       "      <td>-</td>\n",
       "    </tr>\n",
       "    <tr>\n",
       "      <th>672</th>\n",
       "      <td>-</td>\n",
       "      <td>679</td>\n",
       "      <td>Feature Phones</td>\n",
       "      <td>-</td>\n",
       "    </tr>\n",
       "    <tr>\n",
       "      <th>673</th>\n",
       "      <td>-</td>\n",
       "      <td>859</td>\n",
       "      <td>Feature Phones</td>\n",
       "      <td>-</td>\n",
       "    </tr>\n",
       "    <tr>\n",
       "      <th>674</th>\n",
       "      <td>-</td>\n",
       "      <td>1,349</td>\n",
       "      <td>Feature Phones</td>\n",
       "      <td>-</td>\n",
       "    </tr>\n",
       "    <tr>\n",
       "      <th>675</th>\n",
       "      <td>-</td>\n",
       "      <td>859</td>\n",
       "      <td>Feature Phones</td>\n",
       "      <td>-</td>\n",
       "    </tr>\n",
       "  </tbody>\n",
       "</table>\n",
       "<p>676 rows × 4 columns</p>\n",
       "</div>"
      ],
      "text/plain": [
       "               reviews   Price           Brand Ratings\n",
       "0    Nice mobile phone  12,990    Smart Phones       5\n",
       "1     Very nice mobile  11,990    Smart Phones       5\n",
       "2                    -  20,990    Smart Phones       -\n",
       "3          Best mobile  15,115    Smart Phones       4\n",
       "4    Nice mobile phone  12,990    Smart Phones       5\n",
       "..                 ...     ...             ...     ...\n",
       "671                  -   1,049  Feature Phones       -\n",
       "672                  -     679  Feature Phones       -\n",
       "673                  -     859  Feature Phones       -\n",
       "674                  -   1,349  Feature Phones       -\n",
       "675                  -     859  Feature Phones       -\n",
       "\n",
       "[676 rows x 4 columns]"
      ]
     },
     "execution_count": 18,
     "metadata": {},
     "output_type": "execute_result"
    }
   ],
   "source": [
    "dts"
   ]
  },
  {
   "cell_type": "code",
   "execution_count": null,
   "metadata": {},
   "outputs": [],
   "source": []
  }
 ],
 "metadata": {
  "kernelspec": {
   "display_name": "Python 3",
   "language": "python",
   "name": "python3"
  },
  "language_info": {
   "codemirror_mode": {
    "name": "ipython",
    "version": 3
   },
   "file_extension": ".py",
   "mimetype": "text/x-python",
   "name": "python",
   "nbconvert_exporter": "python",
   "pygments_lexer": "ipython3",
   "version": "3.8.5"
  }
 },
 "nbformat": 4,
 "nbformat_minor": 5
}
