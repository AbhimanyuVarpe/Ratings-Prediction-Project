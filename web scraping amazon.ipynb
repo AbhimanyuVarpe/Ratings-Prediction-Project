{
 "cells": [
  {
   "cell_type": "code",
   "execution_count": 1,
   "metadata": {},
   "outputs": [],
   "source": [
    "import selenium\n",
    "import pandas as pd\n",
    "from selenium import webdriver"
   ]
  },
  {
   "cell_type": "code",
   "execution_count": 2,
   "metadata": {},
   "outputs": [],
   "source": [
    "import time\n",
    "from selenium.common.exceptions import NoSuchElementException"
   ]
  },
  {
   "cell_type": "code",
   "execution_count": 3,
   "metadata": {},
   "outputs": [],
   "source": [
    "driver = webdriver.Chrome(r\"chromedriver.exe\")"
   ]
  },
  {
   "cell_type": "code",
   "execution_count": 4,
   "metadata": {},
   "outputs": [],
   "source": [
    "driver.get('http://www.amazon.in/')"
   ]
  },
  {
   "cell_type": "code",
   "execution_count": 5,
   "metadata": {},
   "outputs": [],
   "source": [
    "search_bar = driver.find_element_by_id('twotabsearchtextbox')\n",
    "search_bar.send_keys('laptop')"
   ]
  },
  {
   "cell_type": "code",
   "execution_count": 6,
   "metadata": {},
   "outputs": [],
   "source": [
    "srch = driver.find_element_by_id('nav-search-submit-button')\n",
    "srch.click()"
   ]
  },
  {
   "cell_type": "code",
   "execution_count": 7,
   "metadata": {},
   "outputs": [],
   "source": [
    "url=[]\n",
    "for i in driver.find_elements_by_xpath('//a[@class=\"a-link-normal a-text-normal\"]'):\n",
    "    url.append(i.get_attribute('href'))"
   ]
  },
  {
   "cell_type": "code",
   "execution_count": 8,
   "metadata": {},
   "outputs": [
    {
     "data": {
      "text/plain": [
       "23"
      ]
     },
     "execution_count": 8,
     "metadata": {},
     "output_type": "execute_result"
    }
   ],
   "source": [
    "len(url)"
   ]
  },
  {
   "cell_type": "code",
   "execution_count": 13,
   "metadata": {},
   "outputs": [],
   "source": [
    "review = []\n",
    "price = []\n",
    "brand = []\n",
    "rating = []"
   ]
  },
  {
   "cell_type": "code",
   "execution_count": 11,
   "metadata": {},
   "outputs": [],
   "source": [
    "for i in urls_lap:\n",
    "    driver.get(i)\n",
    "    time.sleep(2)\n",
    "    try:\n",
    "        p=driver.find_element_by_xpath('//div[@class=\"a-section review-views celwidget\"]')\n",
    "        reviews.append(p.text.replace('/n',''))\n",
    "    except NoSuchElementException:\n",
    "        reviews.append('-')\n",
    "    try:\n",
    "        p=driver.find_element_by_xpath('//span[@class=\"a-size-medium a-color-price priceBlockBuyingPriceString\"]')\n",
    "        price.append(p.text.replace('/n',''))\n",
    "    except NoSuchElementException:\n",
    "        price.append('-')\n",
    "    try:\n",
    "        p=driver.find_element_by_xpath('//table[@class=\"a-normal a-spacing-micro\"]/tbody/tr[2]/td[2]/span')\n",
    "        brand.append(p.text.replace('/n',''))\n",
    "    except NoSuchElementException:\n",
    "        brand.append('-')\n",
    "    try:\n",
    "        p=driver.find_element_by_xpath('//div[@class=\"a-fixed-left-grid-col aok-align-center a-col-right\"]/div[1]/span/span')\n",
    "        rating.append(p.text.replace('/n',''))\n",
    "    except NoSuchElementException:\n",
    "        rating.append('-')"
   ]
  },
  {
   "cell_type": "code",
   "execution_count": 19,
   "metadata": {},
   "outputs": [],
   "source": [
    "search_bar = driver.find_element_by_id('twotabsearchtextbox')\n",
    "search_bar.send_keys('Smart watch')"
   ]
  },
  {
   "cell_type": "code",
   "execution_count": 20,
   "metadata": {},
   "outputs": [],
   "source": [
    "srch = driver.find_element_by_id('nav-search-submit-button')\n",
    "srch.click()"
   ]
  },
  {
   "cell_type": "code",
   "execution_count": 21,
   "metadata": {},
   "outputs": [],
   "source": [
    "urls_watch = []\n",
    "start=0\n",
    "end=15\n",
    "for page in range(start,end):#for loop for scrapping 3 page\n",
    "    url=driver.find_elements_by_xpath('//a[@class=\"a-link-normal a-text-normal\"]')       #scraping urls\n",
    "    for i in url:\n",
    "        urls_watch.append(i.get_attribute(\"href\"))                        #appending the urls in product_urls list\n",
    "    try:\n",
    "        nxt_button=driver.find_element_by_xpath(\"//li[@class='a-last']//a\")     #scraping the list of buttons from the page\n",
    "        nxt_button.click()\n",
    "        time.sleep(2)\n",
    "    except:\n",
    "        break"
   ]
  },
  {
   "cell_type": "code",
   "execution_count": 22,
   "metadata": {},
   "outputs": [
    {
     "data": {
      "text/plain": [
       "422"
      ]
     },
     "execution_count": 22,
     "metadata": {},
     "output_type": "execute_result"
    }
   ],
   "source": [
    "len(urls_watch)"
   ]
  },
  {
   "cell_type": "code",
   "execution_count": 23,
   "metadata": {},
   "outputs": [],
   "source": [
    "for i in urls_watch:\n",
    "    driver.get(i)\n",
    "    time.sleep(2)\n",
    "    try:\n",
    "        p=driver.find_element_by_xpath('//div[@class=\"a-section review-views celwidget\"]')\n",
    "        reviews.append(p.text.replace('/n',''))\n",
    "    except NoSuchElementException:\n",
    "        reviews.append('-')\n",
    "    try:\n",
    "        p=driver.find_element_by_xpath('//span[@class=\"a-size-medium a-color-price priceBlockBuyingPriceString\"]')\n",
    "        price.append(p.text.replace('/n',''))\n",
    "    except NoSuchElementException:\n",
    "        price.append('-')\n",
    "    try:\n",
    "        p=driver.find_element_by_xpath('//table[@class=\"a-keyvalue prodDetTable\"][1]/tbody/tr[1]/td[1]')\n",
    "        brand.append(p.text.replace('/n',''))\n",
    "    except NoSuchElementException:\n",
    "        brand.append('-')\n",
    "    try:\n",
    "        p=driver.find_element_by_xpath('//div[@class=\"a-fixed-left-grid-col aok-align-center a-col-right\"]/div[1]/span/span')\n",
    "        rating.append(p.text.replace('/n',''))\n",
    "    except NoSuchElementException:\n",
    "        rating.append('-')"
   ]
  },
  {
   "cell_type": "code",
   "execution_count": 24,
   "metadata": {},
   "outputs": [
    {
     "data": {
      "text/plain": [
       "637"
      ]
     },
     "execution_count": 24,
     "metadata": {},
     "output_type": "execute_result"
    }
   ],
   "source": [
    "len(rating)"
   ]
  },
  {
   "cell_type": "code",
   "execution_count": 14,
   "metadata": {},
   "outputs": [],
   "source": [
    "dataset = pd.DataFrame({})\n",
    "dataset['reviews'] = reviews\n",
    "dataset['Price'] = price\n",
    "dataset['Brand'] = brand\n",
    "dataset['Ratings'] = rating"
   ]
  },
  {
   "cell_type": "code",
   "execution_count": 92,
   "metadata": {},
   "outputs": [],
   "source": [
    "df = pd.read_csv('ratings.csv')"
   ]
  },
  {
   "cell_type": "code",
   "execution_count": 5,
   "metadata": {},
   "outputs": [],
   "source": [
    "search_bar = driver.find_element_by_id('twotabsearchtextbox')\n",
    "search_bar.send_keys('smart phone')\n",
    "srch = driver.find_element_by_id('nav-search-submit-button')\n",
    "srch.click()"
   ]
  },
  {
   "cell_type": "code",
   "execution_count": 6,
   "metadata": {},
   "outputs": [],
   "source": [
    "url_phone = []\n",
    "start=0\n",
    "end=19\n",
    "for page in range(start,end):#for loop for scrapping 3 page\n",
    "    url=driver.find_elements_by_xpath('//a[@class=\"a-link-normal a-text-normal\"]')       #scraping urls\n",
    "    for i in url:\n",
    "        url_phone.append(i.get_attribute(\"href\"))                        #appending the urls in product_urls list\n",
    "    try:\n",
    "        nxt_button=driver.find_element_by_xpath(\"//li[@class='a-last']//a\")     #scraping the list of buttons from the page\n",
    "        nxt_button.click()\n",
    "        time.sleep(2)\n",
    "    except:\n",
    "        continue"
   ]
  },
  {
   "cell_type": "code",
   "execution_count": 8,
   "metadata": {},
   "outputs": [],
   "source": [
    "for i in url_phone:\n",
    "    driver.get(i)\n",
    "    time.sleep(2)\n",
    "    try:\n",
    "        p=driver.find_element_by_xpath('//div[@class=\"a-section review-views celwidget\"]')\n",
    "        reviews.append(p.text.replace('/n',''))\n",
    "    except NoSuchElementException:\n",
    "        reviews.append('-')\n",
    "    try:\n",
    "        p=driver.find_element_by_xpath('//span[@class=\"a-size-medium a-color-price priceBlockBuyingPriceString\"]')\n",
    "        price.append(p.text.replace('/n',''))\n",
    "    except NoSuchElementException:\n",
    "        price.append('-')\n",
    "    try:\n",
    "        p=driver.find_element_by_xpath('//table[@class=\"a-normal a-spacing-micro\"][1]/tbody/tr[3]/td[2]/span')\n",
    "        brand.append(p.text.replace('/n',''))\n",
    "    except NoSuchElementException:\n",
    "        brand.append('-')\n",
    "    try:\n",
    "        p=driver.find_element_by_xpath('//div[@class=\"a-fixed-left-grid-col aok-align-center a-col-right\"]/div[1]/span/span')\n",
    "        rating.append(p.text.replace('/n',''))\n",
    "    except NoSuchElementException:\n",
    "        rating.append('-')"
   ]
  },
  {
   "cell_type": "code",
   "execution_count": 13,
   "metadata": {},
   "outputs": [
    {
     "data": {
      "text/plain": [
       "323"
      ]
     },
     "execution_count": 13,
     "metadata": {},
     "output_type": "execute_result"
    }
   ],
   "source": [
    "len(reviews)\n"
   ]
  },
  {
   "cell_type": "code",
   "execution_count": 15,
   "metadata": {},
   "outputs": [],
   "source": [
    "dataset.to_csv(r'File Name3.csv',index=False,header=True)"
   ]
  },
  {
   "cell_type": "code",
   "execution_count": 16,
   "metadata": {},
   "outputs": [],
   "source": [
    "search_bar = driver.find_element_by_id('twotabsearchtextbox')\n",
    "search_bar.send_keys('headphones')\n",
    "srch = driver.find_element_by_id('nav-search-submit-button')\n",
    "srch.click()"
   ]
  },
  {
   "cell_type": "code",
   "execution_count": 17,
   "metadata": {},
   "outputs": [],
   "source": [
    "url_hd = []\n",
    "start=0\n",
    "end=19\n",
    "for page in range(start,end):#for loop for scrapping 3 page\n",
    "    url=driver.find_elements_by_xpath('//a[@class=\"a-link-normal a-text-normal\"]')       #scraping urls\n",
    "    for i in url:\n",
    "        url_hd.append(i.get_attribute(\"href\"))                        #appending the urls in product_urls list\n",
    "    try:\n",
    "        nxt_button=driver.find_element_by_xpath(\"//li[@class='a-last']//a\")     #scraping the list of buttons from the page\n",
    "        nxt_button.click()\n",
    "        time.sleep(2)\n",
    "    except:\n",
    "        break"
   ]
  },
  {
   "cell_type": "code",
   "execution_count": 18,
   "metadata": {},
   "outputs": [
    {
     "data": {
      "text/plain": [
       "418"
      ]
     },
     "execution_count": 18,
     "metadata": {},
     "output_type": "execute_result"
    }
   ],
   "source": [
    "len(url_hd)"
   ]
  },
  {
   "cell_type": "code",
   "execution_count": 19,
   "metadata": {},
   "outputs": [],
   "source": [
    "for i in url_hd:\n",
    "    driver.get(i)\n",
    "    time.sleep(2)\n",
    "    try:\n",
    "        p=driver.find_element_by_xpath('//div[@class=\"a-section review-views celwidget\"]')\n",
    "        reviews.append(p.text.replace('/n',''))\n",
    "    except NoSuchElementException:\n",
    "        reviews.append('-')\n",
    "    try:\n",
    "        p=driver.find_element_by_xpath('//span[@class=\"a-size-medium a-color-price priceBlockBuyingPriceString\"]')\n",
    "        price.append(p.text.replace('/n',''))\n",
    "    except NoSuchElementException:\n",
    "        price.append('-')\n",
    "    try:\n",
    "        p=driver.find_element_by_xpath('//table[@class=\"a-keyvalue prodDetTable\"][1]/tbody/tr[1]/td[1]')\n",
    "        brand.append(p.text.replace('/n',''))\n",
    "    except NoSuchElementException:\n",
    "        brand.append('-')\n",
    "    try:\n",
    "        p=driver.find_element_by_xpath('//div[@class=\"a-fixed-left-grid-col aok-align-center a-col-right\"]/div[1]/span/span')\n",
    "        rating.append(p.text.replace('/n',''))\n",
    "    except NoSuchElementException:\n",
    "        rating.append('-')"
   ]
  },
  {
   "cell_type": "code",
   "execution_count": 20,
   "metadata": {},
   "outputs": [],
   "source": [
    "df = pd.DataFrame({})\n",
    "df['reviews'] = reviews\n",
    "df['Price'] = price\n",
    "df['Brand'] = brand\n",
    "df['Ratings'] = rating"
   ]
  },
  {
   "cell_type": "code",
   "execution_count": 21,
   "metadata": {},
   "outputs": [],
   "source": [
    "df.to_csv(r'File Name_hdandph.csv',index=False,header=True)"
   ]
  },
  {
   "cell_type": "code",
   "execution_count": 5,
   "metadata": {},
   "outputs": [],
   "source": [
    "search_bar = driver.find_element_by_id('twotabsearchtextbox')\n",
    "search_bar.send_keys('camera')\n",
    "srch = driver.find_element_by_id('nav-search-submit-button')\n",
    "srch.click()"
   ]
  },
  {
   "cell_type": "code",
   "execution_count": 6,
   "metadata": {},
   "outputs": [],
   "source": [
    "url_cam = []\n",
    "start=0\n",
    "end=19\n",
    "for page in range(start,end):#for loop for scrapping 3 page\n",
    "    url=driver.find_elements_by_xpath('//a[@class=\"a-link-normal a-text-normal\"]')       #scraping urls\n",
    "    for i in url:\n",
    "        url_cam.append(i.get_attribute(\"href\"))                        #appending the urls in product_urls list\n",
    "    try:\n",
    "        nxt_button=driver.find_element_by_xpath(\"//li[@class='a-last']//a\")     #scraping the list of buttons from the page\n",
    "        nxt_button.click()\n",
    "        time.sleep(2)\n",
    "    except:\n",
    "        break"
   ]
  },
  {
   "cell_type": "code",
   "execution_count": 10,
   "metadata": {},
   "outputs": [],
   "source": [
    "for i in url_cam:\n",
    "    driver.get(i)\n",
    "    time.sleep(2)\n",
    "    try:\n",
    "        p=driver.find_element_by_xpath('//div[@class=\"a-section review-views celwidget\"]')\n",
    "        reviews.append(p.text.replace('/n',''))\n",
    "    except NoSuchElementException:\n",
    "        reviews.append('-')\n",
    "    try:\n",
    "        p=driver.find_element_by_xpath('//span[@class=\"a-size-medium a-color-price priceBlockBuyingPriceString\"]')\n",
    "        price.append(p.text.replace('/n',''))\n",
    "    except NoSuchElementException:\n",
    "        price.append('-')\n",
    "    try:\n",
    "        p=driver.find_element_by_xpath('//table[@class=\"a-keyvalue prodDetTable\"][1]/tbody/tr[1]/td[1]')\n",
    "        brand.append(p.text.replace('/n',''))\n",
    "    except NoSuchElementException:\n",
    "        brand.append('-')\n",
    "    try:\n",
    "        p=driver.find_element_by_xpath('//div[@class=\"a-fixed-left-grid-col aok-align-center a-col-right\"]/div[1]/span/span')\n",
    "        rating.append(p.text.replace('/n',''))\n",
    "    except NoSuchElementException:\n",
    "        rating.append('-')"
   ]
  },
  {
   "cell_type": "code",
   "execution_count": 15,
   "metadata": {},
   "outputs": [],
   "source": [
    "dataset = pd.DataFrame({})\n",
    "dataset['reviews'] = reviews\n",
    "dataset['Price'] = price\n",
    "dataset['Brand'] = brand\n",
    "dataset['Ratings'] = rating"
   ]
  },
  {
   "cell_type": "code",
   "execution_count": 16,
   "metadata": {},
   "outputs": [],
   "source": [
    "dataset.to_csv(r'cam.csv',index=False,header=True)"
   ]
  },
  {
   "cell_type": "code",
   "execution_count": 5,
   "metadata": {},
   "outputs": [],
   "source": [
    "search_bar = driver.find_element_by_id('twotabsearchtextbox')\n",
    "search_bar.send_keys('Home theatre')\n",
    "srch = driver.find_element_by_id('nav-search-submit-button')\n",
    "srch.click()"
   ]
  },
  {
   "cell_type": "code",
   "execution_count": 6,
   "metadata": {},
   "outputs": [],
   "source": [
    "url_ht = []\n",
    "start=0\n",
    "end=19\n",
    "for page in range(start,end):#for loop for scrapping 3 page\n",
    "    url=driver.find_elements_by_xpath('//a[@class=\"a-link-normal a-text-normal\"]')       #scraping urls\n",
    "    for i in url:\n",
    "        url_ht.append(i.get_attribute(\"href\"))                        #appending the urls in product_urls list\n",
    "    try:\n",
    "        nxt_button=driver.find_element_by_xpath(\"//li[@class='a-last']//a\")     #scraping the list of buttons from the page\n",
    "        nxt_button.click()\n",
    "        time.sleep(2)\n",
    "    except:\n",
    "        break"
   ]
  },
  {
   "cell_type": "code",
   "execution_count": 8,
   "metadata": {},
   "outputs": [],
   "source": [
    "for i in url_ht:\n",
    "    driver.get(i)\n",
    "    time.sleep(2)\n",
    "    try:\n",
    "        p=driver.find_element_by_xpath('//div[@class=\"a-section review-views celwidget\"]')\n",
    "        reviews.append(p.text.replace('/n',''))\n",
    "    except NoSuchElementException:\n",
    "        reviews.append('-')\n",
    "    try:\n",
    "        p=driver.find_element_by_xpath('//span[@class=\"a-size-medium a-color-price priceBlockBuyingPriceString\"]')\n",
    "        price.append(p.text.replace('/n',''))\n",
    "    except NoSuchElementException:\n",
    "        price.append('-')\n",
    "    try:\n",
    "        p=driver.find_element_by_xpath('//table[@class=\"a-keyvalue prodDetTable\"][1]/tbody/tr[1]/td[1]')\n",
    "        brand.append(p.text.replace('/n',''))\n",
    "    except NoSuchElementException:\n",
    "        brand.append('-')\n",
    "    try:\n",
    "        p=driver.find_element_by_xpath('//div[@class=\"a-fixed-left-grid-col aok-align-center a-col-right\"]/div[1]/span/span')\n",
    "        rating.append(p.text.replace('/n',''))\n",
    "    except NoSuchElementException:\n",
    "        rating.append('-')"
   ]
  },
  {
   "cell_type": "code",
   "execution_count": 13,
   "metadata": {},
   "outputs": [],
   "source": [
    "dataset = pd.DataFrame({})\n",
    "dataset['reviews'] = reviews\n",
    "dataset['Price'] = price\n",
    "dataset['Brand'] = brand\n",
    "dataset['Ratings'] = rating"
   ]
  },
  {
   "cell_type": "code",
   "execution_count": 14,
   "metadata": {},
   "outputs": [],
   "source": [
    "dataset.to_csv(r'hometheatre.csv',index=False,header=True)"
   ]
  },
  {
   "cell_type": "code",
   "execution_count": 5,
   "metadata": {},
   "outputs": [],
   "source": [
    "search_bar = driver.find_element_by_id('twotabsearchtextbox')\n",
    "search_bar.send_keys('printer')\n",
    "srch = driver.find_element_by_id('nav-search-submit-button')\n",
    "srch.click()"
   ]
  },
  {
   "cell_type": "code",
   "execution_count": 6,
   "metadata": {},
   "outputs": [],
   "source": [
    "url_printer = []\n",
    "start=0\n",
    "end=19\n",
    "for page in range(start,end):#for loop for scrapping 3 page\n",
    "    url=driver.find_elements_by_xpath('//a[@class=\"a-link-normal a-text-normal\"]')       #scraping urls\n",
    "    for i in url:\n",
    "        url_printer.append(i.get_attribute(\"href\"))                        #appending the urls in product_urls list\n",
    "    try:\n",
    "        nxt_button=driver.find_element_by_xpath(\"//li[@class='a-last']//a\")     #scraping the list of buttons from the page\n",
    "        nxt_button.click()\n",
    "        time.sleep(2)\n",
    "    except:\n",
    "        break"
   ]
  },
  {
   "cell_type": "code",
   "execution_count": 9,
   "metadata": {},
   "outputs": [],
   "source": [
    "for i in url_printer:\n",
    "    driver.get(i)\n",
    "    time.sleep(2)\n",
    "    try:\n",
    "        p=driver.find_element_by_xpath('//div[@class=\"a-section review-views celwidget\"]')\n",
    "        reviews.append(p.text.replace('/n',''))\n",
    "    except NoSuchElementException:\n",
    "        reviews.append('-')\n",
    "    try:\n",
    "        p=driver.find_element_by_xpath('//span[@class=\"a-size-medium a-color-price priceBlockBuyingPriceString\"]')\n",
    "        price.append(p.text.replace('/n',''))\n",
    "    except NoSuchElementException:\n",
    "        price.append('-')\n",
    "    try:\n",
    "        p=driver.find_element_by_xpath('//table[@class=\"a-keyvalue prodDetTable\"][1]/tbody/tr[1]/td[1]')\n",
    "        brand.append(p.text.replace('/n',''))\n",
    "    except NoSuchElementException:\n",
    "        brand.append('-')\n",
    "    try:\n",
    "        p=driver.find_element_by_xpath('//div[@class=\"a-fixed-left-grid-col aok-align-center a-col-right\"]/div[1]/span/span')\n",
    "        rating.append(p.text.replace('/n',''))\n",
    "    except NoSuchElementException:\n",
    "        rating.append('-')"
   ]
  },
  {
   "cell_type": "code",
   "execution_count": 30,
   "metadata": {},
   "outputs": [],
   "source": [
    "dataset = pd.DataFrame({})\n",
    "dataset['reviews'] = review\n",
    "dataset['Price'] = price\n",
    "dataset['Brand'] = brand\n",
    "dataset['Ratings'] = rating"
   ]
  },
  {
   "cell_type": "code",
   "execution_count": 31,
   "metadata": {},
   "outputs": [],
   "source": [
    "dataset.to_csv(r'cpu_amazon.csv',index=False,header=True)"
   ]
  },
  {
   "cell_type": "code",
   "execution_count": 5,
   "metadata": {},
   "outputs": [],
   "source": [
    "search_bar = driver.find_element_by_id('twotabsearchtextbox')\n",
    "search_bar.send_keys('monitor')\n",
    "srch = driver.find_element_by_id('nav-search-submit-button')\n",
    "srch.click()"
   ]
  },
  {
   "cell_type": "code",
   "execution_count": 6,
   "metadata": {},
   "outputs": [],
   "source": [
    "url_monitor = []\n",
    "start=0\n",
    "end=19\n",
    "for page in range(start,end):#for loop for scrapping 3 page\n",
    "    url=driver.find_elements_by_xpath('//a[@class=\"a-link-normal a-text-normal\"]')       #scraping urls\n",
    "    for i in url:\n",
    "        url_monitor.append(i.get_attribute(\"href\"))                        #appending the urls in product_urls list\n",
    "    try:\n",
    "        nxt_button=driver.find_element_by_xpath(\"//li[@class='a-last']//a\")     #scraping the list of buttons from the page\n",
    "        nxt_button.click()\n",
    "        time.sleep(2)\n",
    "    except:\n",
    "        break"
   ]
  },
  {
   "cell_type": "code",
   "execution_count": 8,
   "metadata": {},
   "outputs": [],
   "source": [
    "for i in url_monitor:\n",
    "    driver.get(i)\n",
    "    time.sleep(2)\n",
    "    try:\n",
    "        p=driver.find_element_by_xpath('//div[@class=\"a-section review-views celwidget\"]')\n",
    "        reviews.append(p.text.replace('/n',''))\n",
    "    except NoSuchElementException:\n",
    "        reviews.append('-')\n",
    "    try:\n",
    "        p=driver.find_element_by_xpath('//span[@class=\"a-size-medium a-color-price priceBlockBuyingPriceString\"]')\n",
    "        price.append(p.text.replace('/n',''))\n",
    "    except NoSuchElementException:\n",
    "        price.append('-')\n",
    "    try:\n",
    "        p=driver.find_element_by_xpath('//table[@class=\"a-keyvalue prodDetTable\"][1]/tbody/tr[1]/td[1]')\n",
    "        brand.append(p.text.replace('/n',''))\n",
    "    except NoSuchElementException:\n",
    "        brand.append('-')\n",
    "    try:\n",
    "        p=driver.find_element_by_xpath('//div[@class=\"a-fixed-left-grid-col aok-align-center a-col-right\"]/div[1]/span/span')\n",
    "        rating.append(p.text.replace('/n',''))\n",
    "    except NoSuchElementException:\n",
    "        rating.append('-')"
   ]
  },
  {
   "cell_type": "code",
   "execution_count": 21,
   "metadata": {},
   "outputs": [],
   "source": [
    "dataset = pd.DataFrame({})\n",
    "dataset['reviews'] = review\n",
    "dataset['Price'] = price\n",
    "dataset['Brand'] = brand\n",
    "dataset['Ratings'] = rating"
   ]
  },
  {
   "cell_type": "code",
   "execution_count": 22,
   "metadata": {},
   "outputs": [],
   "source": [
    "dataset.to_csv(r'bluetooth_amazon.csv',index=False,header=True)"
   ]
  },
  {
   "cell_type": "code",
   "execution_count": 44,
   "metadata": {},
   "outputs": [],
   "source": [
    "df_amazon.to_csv(r'amazon_df.csv',index=False,header=True)"
   ]
  },
  {
   "cell_type": "code",
   "execution_count": 5,
   "metadata": {},
   "outputs": [],
   "source": [
    "urls_m = []\n",
    "start=0\n",
    "end=20\n",
    "for page in range(start,end):#for loop for scrapping 3 page\n",
    "    url=driver.find_elements_by_xpath('//a[@class=\"a-link-normal a-text-normal\"]')       #scraping urls\n",
    "    for i in url:\n",
    "        urls_m.append(i.get_attribute(\"href\"))                        #appending the urls in product_urls list\n",
    "    try:\n",
    "        nxt_button=driver.find_element_by_xpath('//a[@class=\"s-pagination-item s-pagination-next s-pagination-button s-pagination-separator\"]')     #scraping the list of buttons from the page\n",
    "        nxt_button.click()\n",
    "        time.sleep(2)\n",
    "    except:\n",
    "        break"
   ]
  },
  {
   "cell_type": "code",
   "execution_count": 14,
   "metadata": {},
   "outputs": [],
   "source": [
    "urls = urls_pd[3:]"
   ]
  },
  {
   "cell_type": "code",
   "execution_count": 12,
   "metadata": {},
   "outputs": [],
   "source": [
    "review = []\n",
    "price = []\n",
    "brand = []\n",
    "rating = []"
   ]
  },
  {
   "cell_type": "code",
   "execution_count": 13,
   "metadata": {},
   "outputs": [],
   "source": [
    "for i in url:\n",
    "    driver.get(i)\n",
    "    time.sleep(2)\n",
    "    try:\n",
    "        p=driver.find_element_by_xpath('//a[@class=\"a-size-base a-link-normal review-title a-color-base review-title-content a-text-bold\"]/span')\n",
    "        review.append(p.text.replace('/n',''))\n",
    "    except NoSuchElementException:\n",
    "        review.append('-')\n",
    "    try:\n",
    "        p=driver.find_element_by_xpath('//span[@class=\"a-size-medium a-color-price priceBlockBuyingPriceString\"]')\n",
    "        price.append(p.text.replace('/n',''))\n",
    "    except NoSuchElementException:\n",
    "        price.append('-')\n",
    "    try:\n",
    "        p=driver.find_element_by_xpath('//table[@class=\"a-normal a-spacing-micro\"]/tbody/tr[2]/td[2]/span')\n",
    "        brand.append(p.text.replace('/n',''))\n",
    "    except NoSuchElementException:\n",
    "        brand.append('-')\n",
    "    try:\n",
    "        p=driver.find_element_by_xpath('//div[@class=\"a-fixed-left-grid-col aok-align-center a-col-right\"]/div[1]/span/span')\n",
    "        rating.append(p.text.replace('/n',''))\n",
    "    except NoSuchElementException:\n",
    "        rating.append('-')"
   ]
  },
  {
   "cell_type": "code",
   "execution_count": 9,
   "metadata": {},
   "outputs": [],
   "source": [
    "url_modem = []\n",
    "start=0\n",
    "end=20\n",
    "for page in range(start,end):#for loop for scrapping 3 page\n",
    "    url=driver.find_elements_by_xpath('//a[@class=\"a-link-normal a-text-normal\"]')       #scraping urls\n",
    "    for i in url:\n",
    "        url_modem.append(i.get_attribute(\"href\"))                        #appending the urls in product_urls list\n",
    "    try:\n",
    "        nxt_button=driver.find_element_by_xpath('//li[@class=\"a-last\"]//a')     #scraping the list of buttons from the page\n",
    "        nxt_button.click()\n",
    "        time.sleep(2)\n",
    "    except:\n",
    "        break"
   ]
  },
  {
   "cell_type": "code",
   "execution_count": 16,
   "metadata": {},
   "outputs": [],
   "source": [
    "urls = url_modem[3:]"
   ]
  },
  {
   "cell_type": "code",
   "execution_count": 17,
   "metadata": {},
   "outputs": [],
   "source": [
    "for i in urls:\n",
    "    driver.get(i)\n",
    "    time.sleep(2)\n",
    "    try:\n",
    "        p=driver.find_element_by_xpath('//a[@class=\"a-size-base a-link-normal review-title a-color-base review-title-content a-text-bold\"]/span')\n",
    "        review.append(p.text.replace('/n',''))\n",
    "    except NoSuchElementException:\n",
    "        review.append('-')\n",
    "    try:\n",
    "        p=driver.find_element_by_xpath('//span[@class=\"a-size-medium a-color-price priceBlockBuyingPriceString\"]')\n",
    "        price.append(p.text.replace('/n',''))\n",
    "    except NoSuchElementException:\n",
    "        price.append('-')\n",
    "    try:\n",
    "        p=driver.find_element_by_xpath('//table[@class=\"a-normal a-spacing-micro\"]/tbody/tr[2]/td[2]/span')\n",
    "        brand.append(p.text.replace('/n',''))\n",
    "    except NoSuchElementException:\n",
    "        brand.append('-')\n",
    "    try:\n",
    "        p=driver.find_element_by_xpath('//div[@class=\"a-fixed-left-grid-col aok-align-center a-col-right\"]/div[1]/span/span')\n",
    "        rating.append(p.text.replace('/n',''))\n",
    "    except NoSuchElementException:\n",
    "        rating.append('-')"
   ]
  },
  {
   "cell_type": "code",
   "execution_count": 19,
   "metadata": {},
   "outputs": [
    {
     "data": {
      "text/plain": [
       "491"
      ]
     },
     "execution_count": 19,
     "metadata": {},
     "output_type": "execute_result"
    }
   ],
   "source": [
    "len(rating)"
   ]
  },
  {
   "cell_type": "code",
   "execution_count": 10,
   "metadata": {},
   "outputs": [],
   "source": [
    "urls = []\n",
    "start=0\n",
    "end=15\n",
    "for page in range(start,end):#for loop for scrapping 3 page\n",
    "    url=driver.find_elements_by_xpath('//a[@class=\"a-link-normal a-text-normal\"]')       #scraping urls\n",
    "    for i in url:\n",
    "        urls.append(i.get_attribute(\"href\"))                        #appending the urls in product_urls list\n",
    "    try:\n",
    "        nxt_button=driver.find_element_by_xpath('//a[@class=\"s-pagination-item s-pagination-next s-pagination-button s-pagination-separator\"]')     #scraping the list of buttons from the page\n",
    "        nxt_button.click()\n",
    "        time.sleep(2)\n",
    "    except:\n",
    "        break"
   ]
  },
  {
   "cell_type": "code",
   "execution_count": 17,
   "metadata": {},
   "outputs": [],
   "source": [
    "ur = urls[3:]"
   ]
  },
  {
   "cell_type": "code",
   "execution_count": 1,
   "metadata": {},
   "outputs": [],
   "source": [
    "for i in ur:\n",
    "    driver.get(i)\n",
    "    time.sleep(2)\n",
    "    try:\n",
    "        p=driver.find_element_by_xpath('//a[@class=\"a-size-base a-link-normal review-title a-color-base review-title-content a-text-bold\"]/span')\n",
    "        review.append(p.text.replace('/n',''))\n",
    "    except NoSuchElementException:\n",
    "        review.append('-')\n",
    "    try:\n",
    "        p=driver.find_element_by_xpath('//span[@class=\"a-size-medium a-color-price priceBlockBuyingPriceString\"]')\n",
    "        price.append(p.text.replace('/n',''))\n",
    "    except NoSuchElementException:\n",
    "        price.append('-')\n",
    "    try:\n",
    "        p=driver.find_element_by_xpath('//table[@class=\"a-normal a-spacing-micro\"]/tbody/tr[2]/td[2]/span')\n",
    "        brand.append(p.text.replace('/n',''))\n",
    "    except NoSuchElementException:\n",
    "        brand.append('-')\n",
    "    try:\n",
    "        p=driver.find_element_by_xpath('//div[@class=\"a-fixed-left-grid-col aok-align-center a-col-right\"]/div[1]/span/span')\n",
    "        rating.append(p.text.replace('/n',''))\n",
    "    except NoSuchElementException:\n",
    "        rating.append('-')"
   ]
  },
  {
   "cell_type": "code",
   "execution_count": null,
   "metadata": {},
   "outputs": [],
   "source": []
  }
 ],
 "metadata": {
  "kernelspec": {
   "display_name": "Python 3",
   "language": "python",
   "name": "python3"
  },
  "language_info": {
   "codemirror_mode": {
    "name": "ipython",
    "version": 3
   },
   "file_extension": ".py",
   "mimetype": "text/x-python",
   "name": "python",
   "nbconvert_exporter": "python",
   "pygments_lexer": "ipython3",
   "version": "3.8.5"
  }
 },
 "nbformat": 4,
 "nbformat_minor": 5
}
